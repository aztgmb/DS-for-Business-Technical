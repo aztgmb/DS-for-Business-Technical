{
  "nbformat": 4,
  "nbformat_minor": 0,
  "metadata": {
    "colab": {
      "name": "next_word_prediction_lstm.ipynb",
      "provenance": [],
      "collapsed_sections": []
    },
    "kernelspec": {
      "name": "python3",
      "display_name": "Python 3"
    },
    "accelerator": "GPU"
  },
  "cells": [
    {
      "cell_type": "code",
      "metadata": {
        "id": "TjxCPvJdGpNh"
      },
      "source": [
        "import tensorflow as tf\r\n",
        "from tensorflow.keras.preprocessing.text import Tokenizer\r\n",
        "from tensorflow.keras.layers import Embedding, LSTM, Dense\r\n",
        "from tensorflow.keras.models import Sequential\r\n",
        "from tensorflow.keras.utils import to_categorical\r\n",
        "from tensorflow.keras.optimizers import Adam\r\n",
        "from tensorflow.keras.callbacks import ModelCheckpoint\r\n",
        "from tensorflow.keras.callbacks import ReduceLROnPlateau\r\n",
        "from tensorflow.keras.callbacks import TensorBoard\r\n",
        "import pickle\r\n",
        "import numpy as np\r\n",
        "import os\r\n",
        "import base64\r\n",
        "import requests\r\n",
        "import string"
      ],
      "execution_count": null,
      "outputs": []
    },
    {
      "cell_type": "code",
      "metadata": {
        "id": "1mPgp9ztMlDn"
      },
      "source": [
        "with open('/content/drive/My Drive/text.txt') as f:\r\n",
        "  print(f.read())"
      ],
      "execution_count": null,
      "outputs": []
    },
    {
      "cell_type": "code",
      "metadata": {
        "colab": {
          "base_uri": "https://localhost:8080/"
        },
        "id": "dbDEXyI5H98U",
        "outputId": "ee830db9-780d-4726-9251-f2180f3d4575"
      },
      "source": [
        "file = open('/content/drive/My Drive/text.txt', encoding = \"utf8\")\r\n",
        "lines = []\r\n",
        "\r\n",
        "for i in file:\r\n",
        "    lines.append(i)\r\n",
        "    \r\n",
        "print(\"The First Line: \", lines[0])\r\n",
        "print(\"The Last Line: \", lines[-1])"
      ],
      "execution_count": null,
      "outputs": [
        {
          "output_type": "stream",
          "text": [
            "The First Line:  One morning, when Gregor Samsa woke from troubled dreams, he found\n",
            "\n",
            "The Last Line:  first to get up and stretch out her young body.\n"
          ],
          "name": "stdout"
        }
      ]
    },
    {
      "cell_type": "code",
      "metadata": {
        "colab": {
          "base_uri": "https://localhost:8080/",
          "height": 72
        },
        "id": "X2neLd7tH-Ye",
        "outputId": "bac65356-80cb-4b24-c3c1-a78af867eca6"
      },
      "source": [
        "data = \"\"\r\n",
        "\r\n",
        "for i in lines:\r\n",
        "    data = ' '. join(lines)\r\n",
        "    \r\n",
        "data = data.replace('\\n', '').replace('\\r', '').replace('\\ufeff', '')\r\n",
        "data[:360]"
      ],
      "execution_count": null,
      "outputs": [
        {
          "output_type": "execute_result",
          "data": {
            "application/vnd.google.colaboratory.intrinsic+json": {
              "type": "string"
            },
            "text/plain": [
              "'One morning, when Gregor Samsa woke from troubled dreams, he found himself transformed in his bed into a horrible vermin.  He lay on his armour-like back, and if he lifted his head a little he could see his brown belly, slightly domed and divided by arches into stiff sections.  The bedding was hardly able to cover it and seemed ready to slide off any moment.'"
            ]
          },
          "metadata": {
            "tags": []
          },
          "execution_count": 15
        }
      ]
    },
    {
      "cell_type": "code",
      "metadata": {
        "colab": {
          "base_uri": "https://localhost:8080/",
          "height": 90
        },
        "id": "tVg45Du6H-uh",
        "outputId": "26697d46-fbc6-44ce-c034-0cad323b40b1"
      },
      "source": [
        "translator = str.maketrans(string.punctuation, ' '*len(string.punctuation)) #map punctuation to space\r\n",
        "new_data = data.translate(translator)\r\n",
        "\r\n",
        "new_data[:500]"
      ],
      "execution_count": null,
      "outputs": [
        {
          "output_type": "execute_result",
          "data": {
            "application/vnd.google.colaboratory.intrinsic+json": {
              "type": "string"
            },
            "text/plain": [
              "'One morning  when Gregor Samsa woke from troubled dreams  he found himself transformed in his bed into a horrible vermin   He lay on his armour like back  and if he lifted his head a little he could see his brown belly  slightly domed and divided by arches into stiff sections   The bedding was hardly able to cover it and seemed ready to slide off any moment   His many legs  pitifully thin compared with the size of the rest of him  waved about helplessly as he looked    What s happened to me   he'"
            ]
          },
          "metadata": {
            "tags": []
          },
          "execution_count": 17
        }
      ]
    },
    {
      "cell_type": "code",
      "metadata": {
        "colab": {
          "base_uri": "https://localhost:8080/",
          "height": 90
        },
        "id": "tV_zWkcBH_Ct",
        "outputId": "8f9c346a-301d-457e-9114-07d4a5e90ccd"
      },
      "source": [
        "z = []\r\n",
        "\r\n",
        "for i in data.split():\r\n",
        "    if i not in z:\r\n",
        "        z.append(i)\r\n",
        "        \r\n",
        "data = ' '.join(z)\r\n",
        "data[:500]"
      ],
      "execution_count": null,
      "outputs": [
        {
          "output_type": "execute_result",
          "data": {
            "application/vnd.google.colaboratory.intrinsic+json": {
              "type": "string"
            },
            "text/plain": [
              "'One morning, when Gregor Samsa woke from troubled dreams, he found himself transformed in his bed into a horrible vermin. He lay on armour-like back, and if lifted head little could see brown belly, slightly domed divided by arches stiff sections. The bedding was hardly able to cover it seemed ready slide off any moment. His many legs, pitifully thin compared with the size of rest him, waved about helplessly as looked. \"What\\'s happened me?\" thought. It wasn\\'t dream. room, proper human room altho'"
            ]
          },
          "metadata": {
            "tags": []
          },
          "execution_count": 18
        }
      ]
    },
    {
      "cell_type": "code",
      "metadata": {
        "colab": {
          "base_uri": "https://localhost:8080/"
        },
        "id": "BfJ4-zthH_YN",
        "outputId": "22eaf1d5-ddcd-47c8-e5ae-8e94adf20a9f"
      },
      "source": [
        "tokenizer = Tokenizer()\r\n",
        "tokenizer.fit_on_texts([data])\r\n",
        "\r\n",
        "# saving the tokenizer for predict function.\r\n",
        "pickle.dump(tokenizer, open('tokenizer1.pkl', 'wb'))\r\n",
        "\r\n",
        "sequence_data = tokenizer.texts_to_sequences([data])[0]\r\n",
        "sequence_data[:10]"
      ],
      "execution_count": null,
      "outputs": [
        {
          "output_type": "execute_result",
          "data": {
            "text/plain": [
              "[17, 53, 293, 2, 18, 729, 135, 730, 294, 8]"
            ]
          },
          "metadata": {
            "tags": []
          },
          "execution_count": 19
        }
      ]
    },
    {
      "cell_type": "code",
      "metadata": {
        "colab": {
          "base_uri": "https://localhost:8080/"
        },
        "id": "usJwKxUYN9ww",
        "outputId": "bcec3ca3-7436-43a4-e8b5-4b66a7467099"
      },
      "source": [
        "vocab_size = len(tokenizer.word_index) + 1\r\n",
        "print(vocab_size)"
      ],
      "execution_count": null,
      "outputs": [
        {
          "output_type": "stream",
          "text": [
            "2617\n"
          ],
          "name": "stdout"
        }
      ]
    },
    {
      "cell_type": "code",
      "metadata": {
        "colab": {
          "base_uri": "https://localhost:8080/"
        },
        "id": "FPqk8OWQN-Dk",
        "outputId": "0656e74a-f331-4097-c74f-f2bde082451f"
      },
      "source": [
        "sequences = []\r\n",
        "\r\n",
        "for i in range(1, len(sequence_data)):\r\n",
        "    words = sequence_data[i-1:i+1]\r\n",
        "    sequences.append(words)\r\n",
        "    \r\n",
        "print(\"The Length of sequences are: \", len(sequences))\r\n",
        "sequences = np.array(sequences)\r\n",
        "sequences[:10]"
      ],
      "execution_count": null,
      "outputs": [
        {
          "output_type": "stream",
          "text": [
            "The Length of sequences are:  3889\n"
          ],
          "name": "stdout"
        },
        {
          "output_type": "execute_result",
          "data": {
            "text/plain": [
              "array([[ 17,  53],\n",
              "       [ 53, 293],\n",
              "       [293,   2],\n",
              "       [  2,  18],\n",
              "       [ 18, 729],\n",
              "       [729, 135],\n",
              "       [135, 730],\n",
              "       [730, 294],\n",
              "       [294,   8],\n",
              "       [  8, 731]])"
            ]
          },
          "metadata": {
            "tags": []
          },
          "execution_count": 21
        }
      ]
    },
    {
      "cell_type": "code",
      "metadata": {
        "id": "3-z7KLCdN-al"
      },
      "source": [
        "X = []\r\n",
        "y = []\r\n",
        "\r\n",
        "for i in sequences:\r\n",
        "    X.append(i[0])\r\n",
        "    y.append(i[1])\r\n",
        "    \r\n",
        "X = np.array(X)\r\n",
        "y = np.array(y)"
      ],
      "execution_count": null,
      "outputs": []
    },
    {
      "cell_type": "code",
      "metadata": {
        "colab": {
          "base_uri": "https://localhost:8080/"
        },
        "id": "bQvNlW_XN-wE",
        "outputId": "990b68f4-1122-40ae-9777-7081c4f6f780"
      },
      "source": [
        "print(\"The Data is: \", X[:5])\r\n",
        "print(\"The responses are: \", y[:5])"
      ],
      "execution_count": null,
      "outputs": [
        {
          "output_type": "stream",
          "text": [
            "The Data is:  [ 17  53 293   2  18]\n",
            "The responses are:  [ 53 293   2  18 729]\n"
          ],
          "name": "stdout"
        }
      ]
    },
    {
      "cell_type": "code",
      "metadata": {
        "colab": {
          "base_uri": "https://localhost:8080/"
        },
        "id": "XWHqVETOOVG9",
        "outputId": "e7f28581-b66e-40b5-cf2d-87ae07de1bab"
      },
      "source": [
        "y = to_categorical(y, num_classes=vocab_size)\r\n",
        "y[:5]"
      ],
      "execution_count": null,
      "outputs": [
        {
          "output_type": "execute_result",
          "data": {
            "text/plain": [
              "array([[0., 0., 0., ..., 0., 0., 0.],\n",
              "       [0., 0., 0., ..., 0., 0., 0.],\n",
              "       [0., 0., 1., ..., 0., 0., 0.],\n",
              "       [0., 0., 0., ..., 0., 0., 0.],\n",
              "       [0., 0., 0., ..., 0., 0., 0.]], dtype=float32)"
            ]
          },
          "metadata": {
            "tags": []
          },
          "execution_count": 24
        }
      ]
    },
    {
      "cell_type": "code",
      "metadata": {
        "id": "hP-n_Fe4OVXU"
      },
      "source": [
        "model = Sequential()\r\n",
        "model.add(Embedding(vocab_size, 10, input_length=1))\r\n",
        "model.add(LSTM(1000, return_sequences=True))\r\n",
        "model.add(LSTM(1000))\r\n",
        "model.add(Dense(1000, activation=\"relu\"))\r\n",
        "model.add(Dense(vocab_size, activation=\"softmax\"))"
      ],
      "execution_count": null,
      "outputs": []
    },
    {
      "cell_type": "code",
      "metadata": {
        "colab": {
          "base_uri": "https://localhost:8080/"
        },
        "id": "4xvzao9XOVuf",
        "outputId": "36abf9f1-52b9-48c3-e16d-36fae5706a0d"
      },
      "source": [
        "model.summary()"
      ],
      "execution_count": null,
      "outputs": [
        {
          "output_type": "stream",
          "text": [
            "Model: \"sequential\"\n",
            "_________________________________________________________________\n",
            "Layer (type)                 Output Shape              Param #   \n",
            "=================================================================\n",
            "embedding (Embedding)        (None, 1, 10)             26170     \n",
            "_________________________________________________________________\n",
            "lstm (LSTM)                  (None, 1, 1000)           4044000   \n",
            "_________________________________________________________________\n",
            "lstm_1 (LSTM)                (None, 1000)              8004000   \n",
            "_________________________________________________________________\n",
            "dense (Dense)                (None, 1000)              1001000   \n",
            "_________________________________________________________________\n",
            "dense_1 (Dense)              (None, 2617)              2619617   \n",
            "=================================================================\n",
            "Total params: 15,694,787\n",
            "Trainable params: 15,694,787\n",
            "Non-trainable params: 0\n",
            "_________________________________________________________________\n"
          ],
          "name": "stdout"
        }
      ]
    },
    {
      "cell_type": "code",
      "metadata": {
        "id": "s-CSb_FCOWCo"
      },
      "source": [
        "checkpoint = ModelCheckpoint(\"nextword1.h5\", monitor='loss', verbose=1,\r\n",
        "    save_best_only=True, mode='auto')\r\n",
        "\r\n",
        "reduce = ReduceLROnPlateau(monitor='loss', factor=0.2, patience=3, min_lr=0.0001, verbose = 1)\r\n",
        "\r\n",
        "logdir='logsnextword1'\r\n",
        "tensorboard_Visualization = TensorBoard(log_dir=logdir)"
      ],
      "execution_count": null,
      "outputs": []
    },
    {
      "cell_type": "code",
      "metadata": {
        "id": "SnKW4mXqN_Ct"
      },
      "source": [
        "model.compile(loss=\"categorical_crossentropy\", optimizer=Adam(lr=0.001))"
      ],
      "execution_count": null,
      "outputs": []
    },
    {
      "cell_type": "code",
      "metadata": {
        "colab": {
          "base_uri": "https://localhost:8080/"
        },
        "id": "rZKshRpnO14A",
        "outputId": "9cb21744-b2e9-41e3-806b-cfdf8331d284"
      },
      "source": [
        "model.fit(X, y, epochs=100, batch_size=64, callbacks=[checkpoint, reduce, tensorboard_Visualization])"
      ],
      "execution_count": null,
      "outputs": [
        {
          "output_type": "stream",
          "text": [
            "Epoch 1/100\n",
            "61/61 [==============================] - 1s 14ms/step - loss: 7.8749\n",
            "\n",
            "Epoch 00001: loss improved from inf to 7.87489, saving model to nextword1.h5\n",
            "Epoch 2/100\n",
            "61/61 [==============================] - 1s 11ms/step - loss: 7.8629\n",
            "\n",
            "Epoch 00002: loss improved from 7.87489 to 7.86289, saving model to nextword1.h5\n",
            "Epoch 3/100\n",
            "61/61 [==============================] - 1s 11ms/step - loss: 7.8213\n",
            "\n",
            "Epoch 00003: loss improved from 7.86289 to 7.82133, saving model to nextword1.h5\n",
            "Epoch 4/100\n",
            "61/61 [==============================] - 1s 11ms/step - loss: 7.6321\n",
            "\n",
            "Epoch 00004: loss improved from 7.82133 to 7.63212, saving model to nextword1.h5\n",
            "Epoch 5/100\n",
            "61/61 [==============================] - 1s 11ms/step - loss: 7.4242\n",
            "\n",
            "Epoch 00005: loss improved from 7.63212 to 7.42422, saving model to nextword1.h5\n",
            "Epoch 6/100\n",
            "61/61 [==============================] - 1s 11ms/step - loss: 7.2592\n",
            "\n",
            "Epoch 00006: loss improved from 7.42422 to 7.25924, saving model to nextword1.h5\n",
            "Epoch 7/100\n",
            "61/61 [==============================] - 1s 11ms/step - loss: 7.1448\n",
            "\n",
            "Epoch 00007: loss improved from 7.25924 to 7.14476, saving model to nextword1.h5\n",
            "Epoch 8/100\n",
            "61/61 [==============================] - 1s 11ms/step - loss: 7.0305\n",
            "\n",
            "Epoch 00008: loss improved from 7.14476 to 7.03046, saving model to nextword1.h5\n",
            "Epoch 9/100\n",
            "61/61 [==============================] - 1s 11ms/step - loss: 6.8580\n",
            "\n",
            "Epoch 00009: loss improved from 7.03046 to 6.85803, saving model to nextword1.h5\n",
            "Epoch 10/100\n",
            "61/61 [==============================] - 1s 11ms/step - loss: 6.6214\n",
            "\n",
            "Epoch 00010: loss improved from 6.85803 to 6.62139, saving model to nextword1.h5\n",
            "Epoch 11/100\n",
            "61/61 [==============================] - 1s 11ms/step - loss: 6.3809\n",
            "\n",
            "Epoch 00011: loss improved from 6.62139 to 6.38090, saving model to nextword1.h5\n",
            "Epoch 12/100\n",
            "61/61 [==============================] - 1s 11ms/step - loss: 6.1354\n",
            "\n",
            "Epoch 00012: loss improved from 6.38090 to 6.13544, saving model to nextword1.h5\n",
            "Epoch 13/100\n",
            "61/61 [==============================] - 1s 11ms/step - loss: 5.9261\n",
            "\n",
            "Epoch 00013: loss improved from 6.13544 to 5.92607, saving model to nextword1.h5\n",
            "Epoch 14/100\n",
            "61/61 [==============================] - 1s 11ms/step - loss: 5.7527\n",
            "\n",
            "Epoch 00014: loss improved from 5.92607 to 5.75265, saving model to nextword1.h5\n",
            "Epoch 15/100\n",
            "61/61 [==============================] - 1s 11ms/step - loss: 5.5828\n",
            "\n",
            "Epoch 00015: loss improved from 5.75265 to 5.58277, saving model to nextword1.h5\n",
            "Epoch 16/100\n",
            "61/61 [==============================] - 1s 11ms/step - loss: 5.4046\n",
            "\n",
            "Epoch 00016: loss improved from 5.58277 to 5.40458, saving model to nextword1.h5\n",
            "Epoch 17/100\n",
            "61/61 [==============================] - 1s 11ms/step - loss: 5.2562\n",
            "\n",
            "Epoch 00017: loss improved from 5.40458 to 5.25617, saving model to nextword1.h5\n",
            "Epoch 18/100\n",
            "61/61 [==============================] - 1s 11ms/step - loss: 5.1354\n",
            "\n",
            "Epoch 00018: loss improved from 5.25617 to 5.13537, saving model to nextword1.h5\n",
            "Epoch 19/100\n",
            "61/61 [==============================] - 1s 11ms/step - loss: 5.0374\n",
            "\n",
            "Epoch 00019: loss improved from 5.13537 to 5.03745, saving model to nextword1.h5\n",
            "Epoch 20/100\n",
            "61/61 [==============================] - 1s 11ms/step - loss: 4.9211\n",
            "\n",
            "Epoch 00020: loss improved from 5.03745 to 4.92115, saving model to nextword1.h5\n",
            "Epoch 21/100\n",
            "61/61 [==============================] - 1s 11ms/step - loss: 4.8220\n",
            "\n",
            "Epoch 00021: loss improved from 4.92115 to 4.82198, saving model to nextword1.h5\n",
            "Epoch 22/100\n",
            "61/61 [==============================] - 1s 11ms/step - loss: 4.7384\n",
            "\n",
            "Epoch 00022: loss improved from 4.82198 to 4.73838, saving model to nextword1.h5\n",
            "Epoch 23/100\n",
            "61/61 [==============================] - 1s 12ms/step - loss: 4.6521\n",
            "\n",
            "Epoch 00023: loss improved from 4.73838 to 4.65212, saving model to nextword1.h5\n",
            "Epoch 24/100\n",
            "61/61 [==============================] - 1s 11ms/step - loss: 4.5765\n",
            "\n",
            "Epoch 00024: loss improved from 4.65212 to 4.57651, saving model to nextword1.h5\n",
            "Epoch 25/100\n",
            "61/61 [==============================] - 1s 12ms/step - loss: 4.5005\n",
            "\n",
            "Epoch 00025: loss improved from 4.57651 to 4.50051, saving model to nextword1.h5\n",
            "Epoch 26/100\n",
            "61/61 [==============================] - 1s 11ms/step - loss: 4.4355\n",
            "\n",
            "Epoch 00026: loss improved from 4.50051 to 4.43546, saving model to nextword1.h5\n",
            "Epoch 27/100\n",
            "61/61 [==============================] - 1s 11ms/step - loss: 4.3835\n",
            "\n",
            "Epoch 00027: loss improved from 4.43546 to 4.38354, saving model to nextword1.h5\n",
            "Epoch 28/100\n",
            "61/61 [==============================] - 1s 11ms/step - loss: 4.3248\n",
            "\n",
            "Epoch 00028: loss improved from 4.38354 to 4.32484, saving model to nextword1.h5\n",
            "Epoch 29/100\n",
            "61/61 [==============================] - 1s 11ms/step - loss: 4.2956\n",
            "\n",
            "Epoch 00029: loss improved from 4.32484 to 4.29562, saving model to nextword1.h5\n",
            "Epoch 30/100\n",
            "61/61 [==============================] - 1s 11ms/step - loss: 4.2088\n",
            "\n",
            "Epoch 00030: loss improved from 4.29562 to 4.20878, saving model to nextword1.h5\n",
            "Epoch 31/100\n",
            "61/61 [==============================] - 1s 12ms/step - loss: 4.1573\n",
            "\n",
            "Epoch 00031: loss improved from 4.20878 to 4.15729, saving model to nextword1.h5\n",
            "Epoch 32/100\n",
            "61/61 [==============================] - 1s 12ms/step - loss: 4.1105\n",
            "\n",
            "Epoch 00032: loss improved from 4.15729 to 4.11046, saving model to nextword1.h5\n",
            "Epoch 33/100\n",
            "61/61 [==============================] - 1s 11ms/step - loss: 4.0656\n",
            "\n",
            "Epoch 00033: loss improved from 4.11046 to 4.06564, saving model to nextword1.h5\n",
            "Epoch 34/100\n",
            "61/61 [==============================] - 1s 12ms/step - loss: 4.0204\n",
            "\n",
            "Epoch 00034: loss improved from 4.06564 to 4.02037, saving model to nextword1.h5\n",
            "Epoch 35/100\n",
            "61/61 [==============================] - 1s 11ms/step - loss: 3.9892\n",
            "\n",
            "Epoch 00035: loss improved from 4.02037 to 3.98924, saving model to nextword1.h5\n",
            "Epoch 36/100\n",
            "61/61 [==============================] - 1s 12ms/step - loss: 3.9338\n",
            "\n",
            "Epoch 00036: loss improved from 3.98924 to 3.93376, saving model to nextword1.h5\n",
            "Epoch 37/100\n",
            "61/61 [==============================] - 1s 10ms/step - loss: 3.8625\n",
            "\n",
            "Epoch 00037: loss improved from 3.93376 to 3.86253, saving model to nextword1.h5\n",
            "Epoch 38/100\n",
            "61/61 [==============================] - 1s 11ms/step - loss: 3.8361\n",
            "\n",
            "Epoch 00038: loss improved from 3.86253 to 3.83608, saving model to nextword1.h5\n",
            "Epoch 39/100\n",
            "61/61 [==============================] - 1s 11ms/step - loss: 3.7862\n",
            "\n",
            "Epoch 00039: loss improved from 3.83608 to 3.78621, saving model to nextword1.h5\n",
            "Epoch 40/100\n",
            "61/61 [==============================] - 1s 12ms/step - loss: 3.7136\n",
            "\n",
            "Epoch 00040: loss improved from 3.78621 to 3.71363, saving model to nextword1.h5\n",
            "Epoch 41/100\n",
            "61/61 [==============================] - 1s 11ms/step - loss: 3.6722\n",
            "\n",
            "Epoch 00041: loss improved from 3.71363 to 3.67219, saving model to nextword1.h5\n",
            "Epoch 42/100\n",
            "61/61 [==============================] - 1s 11ms/step - loss: 3.5525\n",
            "\n",
            "Epoch 00042: loss improved from 3.67219 to 3.55252, saving model to nextword1.h5\n",
            "Epoch 43/100\n",
            "61/61 [==============================] - 1s 11ms/step - loss: 3.5140\n",
            "\n",
            "Epoch 00043: loss improved from 3.55252 to 3.51399, saving model to nextword1.h5\n",
            "Epoch 44/100\n",
            "61/61 [==============================] - 1s 11ms/step - loss: 3.4656\n",
            "\n",
            "Epoch 00044: loss improved from 3.51399 to 3.46562, saving model to nextword1.h5\n",
            "Epoch 45/100\n",
            "61/61 [==============================] - 1s 11ms/step - loss: 3.3696\n",
            "\n",
            "Epoch 00045: loss improved from 3.46562 to 3.36958, saving model to nextword1.h5\n",
            "Epoch 46/100\n",
            "61/61 [==============================] - 1s 11ms/step - loss: 3.2448\n",
            "\n",
            "Epoch 00046: loss improved from 3.36958 to 3.24481, saving model to nextword1.h5\n",
            "Epoch 47/100\n",
            "61/61 [==============================] - 1s 12ms/step - loss: 3.1806\n",
            "\n",
            "Epoch 00047: loss improved from 3.24481 to 3.18057, saving model to nextword1.h5\n",
            "Epoch 48/100\n",
            "61/61 [==============================] - 1s 11ms/step - loss: 3.1159\n",
            "\n",
            "Epoch 00048: loss improved from 3.18057 to 3.11587, saving model to nextword1.h5\n",
            "Epoch 49/100\n",
            "61/61 [==============================] - 1s 11ms/step - loss: 3.0262\n",
            "\n",
            "Epoch 00049: loss improved from 3.11587 to 3.02623, saving model to nextword1.h5\n",
            "Epoch 50/100\n",
            "61/61 [==============================] - 1s 11ms/step - loss: 2.9259\n",
            "\n",
            "Epoch 00050: loss improved from 3.02623 to 2.92586, saving model to nextword1.h5\n",
            "Epoch 51/100\n",
            "61/61 [==============================] - 1s 12ms/step - loss: 2.8113\n",
            "\n",
            "Epoch 00051: loss improved from 2.92586 to 2.81126, saving model to nextword1.h5\n",
            "Epoch 52/100\n",
            "61/61 [==============================] - 1s 12ms/step - loss: 2.7402\n",
            "\n",
            "Epoch 00052: loss improved from 2.81126 to 2.74019, saving model to nextword1.h5\n",
            "Epoch 53/100\n",
            "61/61 [==============================] - 1s 12ms/step - loss: 2.6825\n",
            "\n",
            "Epoch 00053: loss improved from 2.74019 to 2.68252, saving model to nextword1.h5\n",
            "Epoch 54/100\n",
            "61/61 [==============================] - 1s 11ms/step - loss: 2.6431\n",
            "\n",
            "Epoch 00054: loss improved from 2.68252 to 2.64308, saving model to nextword1.h5\n",
            "Epoch 55/100\n",
            "61/61 [==============================] - 1s 12ms/step - loss: 2.5916\n",
            "\n",
            "Epoch 00055: loss improved from 2.64308 to 2.59160, saving model to nextword1.h5\n",
            "Epoch 56/100\n",
            "61/61 [==============================] - 1s 11ms/step - loss: 2.5087\n",
            "\n",
            "Epoch 00056: loss improved from 2.59160 to 2.50874, saving model to nextword1.h5\n",
            "Epoch 57/100\n",
            "61/61 [==============================] - 1s 12ms/step - loss: 2.4325\n",
            "\n",
            "Epoch 00057: loss improved from 2.50874 to 2.43252, saving model to nextword1.h5\n",
            "Epoch 58/100\n",
            "61/61 [==============================] - 1s 11ms/step - loss: 2.4066\n",
            "\n",
            "Epoch 00058: loss improved from 2.43252 to 2.40656, saving model to nextword1.h5\n",
            "Epoch 59/100\n",
            "61/61 [==============================] - 1s 12ms/step - loss: 2.3623\n",
            "\n",
            "Epoch 00059: loss improved from 2.40656 to 2.36228, saving model to nextword1.h5\n",
            "Epoch 60/100\n",
            "61/61 [==============================] - 1s 12ms/step - loss: 2.3065\n",
            "\n",
            "Epoch 00060: loss improved from 2.36228 to 2.30650, saving model to nextword1.h5\n",
            "Epoch 61/100\n",
            "61/61 [==============================] - 1s 12ms/step - loss: 2.2613\n",
            "\n",
            "Epoch 00061: loss improved from 2.30650 to 2.26130, saving model to nextword1.h5\n",
            "Epoch 62/100\n",
            "61/61 [==============================] - 1s 13ms/step - loss: 2.2576\n",
            "\n",
            "Epoch 00062: loss improved from 2.26130 to 2.25755, saving model to nextword1.h5\n",
            "Epoch 63/100\n",
            "61/61 [==============================] - 1s 11ms/step - loss: 2.1908\n",
            "\n",
            "Epoch 00063: loss improved from 2.25755 to 2.19084, saving model to nextword1.h5\n",
            "Epoch 64/100\n",
            "61/61 [==============================] - 1s 12ms/step - loss: 2.1223\n",
            "\n",
            "Epoch 00064: loss improved from 2.19084 to 2.12233, saving model to nextword1.h5\n",
            "Epoch 65/100\n",
            "61/61 [==============================] - 1s 11ms/step - loss: 2.0784\n",
            "\n",
            "Epoch 00065: loss improved from 2.12233 to 2.07842, saving model to nextword1.h5\n",
            "Epoch 66/100\n",
            "61/61 [==============================] - 1s 12ms/step - loss: 2.0571\n",
            "\n",
            "Epoch 00066: loss improved from 2.07842 to 2.05711, saving model to nextword1.h5\n",
            "Epoch 67/100\n",
            "61/61 [==============================] - 1s 11ms/step - loss: 2.0425\n",
            "\n",
            "Epoch 00067: loss improved from 2.05711 to 2.04250, saving model to nextword1.h5\n",
            "Epoch 68/100\n",
            "61/61 [==============================] - 1s 12ms/step - loss: 2.0173\n",
            "\n",
            "Epoch 00068: loss improved from 2.04250 to 2.01729, saving model to nextword1.h5\n",
            "Epoch 69/100\n",
            "61/61 [==============================] - 1s 12ms/step - loss: 1.9793\n",
            "\n",
            "Epoch 00069: loss improved from 2.01729 to 1.97932, saving model to nextword1.h5\n",
            "Epoch 70/100\n",
            "61/61 [==============================] - 1s 11ms/step - loss: 1.9452\n",
            "\n",
            "Epoch 00070: loss improved from 1.97932 to 1.94516, saving model to nextword1.h5\n",
            "Epoch 71/100\n",
            "61/61 [==============================] - 1s 12ms/step - loss: 1.9346\n",
            "\n",
            "Epoch 00071: loss improved from 1.94516 to 1.93455, saving model to nextword1.h5\n",
            "Epoch 72/100\n",
            "61/61 [==============================] - 1s 12ms/step - loss: 1.9152\n",
            "\n",
            "Epoch 00072: loss improved from 1.93455 to 1.91519, saving model to nextword1.h5\n",
            "Epoch 73/100\n",
            "61/61 [==============================] - 1s 11ms/step - loss: 1.8704\n",
            "\n",
            "Epoch 00073: loss improved from 1.91519 to 1.87044, saving model to nextword1.h5\n",
            "Epoch 74/100\n",
            "61/61 [==============================] - 1s 12ms/step - loss: 1.8341\n",
            "\n",
            "Epoch 00074: loss improved from 1.87044 to 1.83411, saving model to nextword1.h5\n",
            "Epoch 75/100\n",
            "61/61 [==============================] - 1s 11ms/step - loss: 1.7862\n",
            "\n",
            "Epoch 00075: loss improved from 1.83411 to 1.78616, saving model to nextword1.h5\n",
            "Epoch 76/100\n",
            "61/61 [==============================] - 1s 11ms/step - loss: 1.7564\n",
            "\n",
            "Epoch 00076: loss improved from 1.78616 to 1.75641, saving model to nextword1.h5\n",
            "Epoch 77/100\n",
            "61/61 [==============================] - 1s 11ms/step - loss: 1.7408\n",
            "\n",
            "Epoch 00077: loss improved from 1.75641 to 1.74080, saving model to nextword1.h5\n",
            "Epoch 78/100\n",
            "61/61 [==============================] - 1s 11ms/step - loss: 1.7279\n",
            "\n",
            "Epoch 00078: loss improved from 1.74080 to 1.72785, saving model to nextword1.h5\n",
            "Epoch 79/100\n",
            "61/61 [==============================] - 1s 12ms/step - loss: 1.7179\n",
            "\n",
            "Epoch 00079: loss improved from 1.72785 to 1.71795, saving model to nextword1.h5\n",
            "Epoch 80/100\n",
            "61/61 [==============================] - 1s 12ms/step - loss: 1.7006\n",
            "\n",
            "Epoch 00080: loss improved from 1.71795 to 1.70063, saving model to nextword1.h5\n",
            "Epoch 81/100\n",
            "61/61 [==============================] - 1s 11ms/step - loss: 1.6809\n",
            "\n",
            "Epoch 00081: loss improved from 1.70063 to 1.68093, saving model to nextword1.h5\n",
            "Epoch 82/100\n",
            "61/61 [==============================] - 1s 12ms/step - loss: 1.6805\n",
            "\n",
            "Epoch 00082: loss improved from 1.68093 to 1.68049, saving model to nextword1.h5\n",
            "Epoch 83/100\n",
            "61/61 [==============================] - 1s 12ms/step - loss: 1.6514\n",
            "\n",
            "Epoch 00083: loss improved from 1.68049 to 1.65144, saving model to nextword1.h5\n",
            "Epoch 84/100\n",
            "61/61 [==============================] - 1s 11ms/step - loss: 1.6386\n",
            "\n",
            "Epoch 00084: loss improved from 1.65144 to 1.63861, saving model to nextword1.h5\n",
            "Epoch 85/100\n",
            "61/61 [==============================] - 2s 26ms/step - loss: 1.6175\n",
            "\n",
            "Epoch 00085: loss improved from 1.63861 to 1.61747, saving model to nextword1.h5\n",
            "Epoch 86/100\n",
            "61/61 [==============================] - 1s 11ms/step - loss: 1.5735\n",
            "\n",
            "Epoch 00086: loss improved from 1.61747 to 1.57355, saving model to nextword1.h5\n",
            "Epoch 87/100\n",
            "61/61 [==============================] - 1s 11ms/step - loss: 1.5584\n",
            "\n",
            "Epoch 00087: loss improved from 1.57355 to 1.55844, saving model to nextword1.h5\n",
            "Epoch 88/100\n",
            "61/61 [==============================] - 1s 12ms/step - loss: 1.5424\n",
            "\n",
            "Epoch 00088: loss improved from 1.55844 to 1.54242, saving model to nextword1.h5\n",
            "Epoch 89/100\n",
            "61/61 [==============================] - 1s 11ms/step - loss: 1.5486\n",
            "\n",
            "Epoch 00089: loss did not improve from 1.54242\n",
            "Epoch 90/100\n",
            "61/61 [==============================] - 1s 11ms/step - loss: 1.5220\n",
            "\n",
            "Epoch 00090: loss improved from 1.54242 to 1.52204, saving model to nextword1.h5\n",
            "Epoch 91/100\n",
            "61/61 [==============================] - 1s 11ms/step - loss: 1.5096\n",
            "\n",
            "Epoch 00091: loss improved from 1.52204 to 1.50956, saving model to nextword1.h5\n",
            "Epoch 92/100\n",
            "61/61 [==============================] - 1s 11ms/step - loss: 1.4778\n",
            "\n",
            "Epoch 00092: loss improved from 1.50956 to 1.47784, saving model to nextword1.h5\n",
            "Epoch 93/100\n",
            "61/61 [==============================] - 1s 11ms/step - loss: 1.4559\n",
            "\n",
            "Epoch 00093: loss improved from 1.47784 to 1.45594, saving model to nextword1.h5\n",
            "Epoch 94/100\n",
            "61/61 [==============================] - 1s 12ms/step - loss: 1.4240\n",
            "\n",
            "Epoch 00094: loss improved from 1.45594 to 1.42405, saving model to nextword1.h5\n",
            "Epoch 95/100\n",
            "61/61 [==============================] - 1s 11ms/step - loss: 1.3902\n",
            "\n",
            "Epoch 00095: loss improved from 1.42405 to 1.39017, saving model to nextword1.h5\n",
            "Epoch 96/100\n",
            "61/61 [==============================] - 1s 11ms/step - loss: 1.3782\n",
            "\n",
            "Epoch 00096: loss improved from 1.39017 to 1.37817, saving model to nextword1.h5\n",
            "Epoch 97/100\n",
            "61/61 [==============================] - 1s 11ms/step - loss: 1.3704\n",
            "\n",
            "Epoch 00097: loss improved from 1.37817 to 1.37037, saving model to nextword1.h5\n",
            "Epoch 98/100\n",
            "61/61 [==============================] - 1s 12ms/step - loss: 1.3520\n",
            "\n",
            "Epoch 00098: loss improved from 1.37037 to 1.35200, saving model to nextword1.h5\n",
            "Epoch 99/100\n",
            "61/61 [==============================] - 1s 12ms/step - loss: 1.3532\n",
            "\n",
            "Epoch 00099: loss did not improve from 1.35200\n",
            "Epoch 100/100\n",
            "61/61 [==============================] - 1s 11ms/step - loss: 1.3509\n",
            "\n",
            "Epoch 00100: loss improved from 1.35200 to 1.35093, saving model to nextword1.h5\n"
          ],
          "name": "stdout"
        },
        {
          "output_type": "execute_result",
          "data": {
            "text/plain": [
              "<tensorflow.python.keras.callbacks.History at 0x7faaa76ee6d8>"
            ]
          },
          "metadata": {
            "tags": []
          },
          "execution_count": 32
        }
      ]
    },
    {
      "cell_type": "code",
      "metadata": {
        "id": "n98ABuSLO2YV"
      },
      "source": [
        "from tensorflow.keras.models import load_model\r\n",
        "import numpy as np\r\n",
        "import pickle\r\n",
        "\r\n",
        "model = load_model('nextword1.h5')\r\n",
        "tokenizer = pickle.load(open('tokenizer1.pkl', 'rb'))\r\n",
        "\r\n",
        "def Predict_Next_Words(model, tokenizer, text):\r\n",
        "  \r\n",
        "    for i in range(3):\r\n",
        "        sequence = tokenizer.texts_to_sequences([text])[0]\r\n",
        "        sequence = np.array(sequence)\r\n",
        "        \r\n",
        "        preds = model.predict_classes(sequence)\r\n",
        "\r\n",
        "        predicted_word = \"\"\r\n",
        "        \r\n",
        "        for key, value in tokenizer.word_index.items():\r\n",
        "            if value == preds:\r\n",
        "                predicted_word = key\r\n",
        "                break\r\n",
        "        \r\n",
        "        print(predicted_word)\r\n",
        "        return predicted_word"
      ],
      "execution_count": null,
      "outputs": []
    },
    {
      "cell_type": "code",
      "metadata": {
        "colab": {
          "base_uri": "https://localhost:8080/"
        },
        "id": "nUpjYh1LO208",
        "outputId": "9ebcdd96-3201-4bae-e335-57128e47a68e"
      },
      "source": [
        "while(True):\r\n",
        "\r\n",
        "    text = input(\"Enter your line: \")\r\n",
        "    \r\n",
        "    if text == \"stop the script\":\r\n",
        "        print(\"Ending The Program.....\")\r\n",
        "        break\r\n",
        "    \r\n",
        "    else:\r\n",
        "        try:\r\n",
        "            text = text.split(\" \")\r\n",
        "            text = text[-1]\r\n",
        "\r\n",
        "            text = ''.join(text)\r\n",
        "            Predict_Next_Words(model, tokenizer, text)\r\n",
        "            \r\n",
        "        except:\r\n",
        "            continue"
      ],
      "execution_count": null,
      "outputs": [
        {
          "output_type": "stream",
          "text": [
            "Enter your line: stop the script\n",
            "Ending The Program.....\n"
          ],
          "name": "stdout"
        }
      ]
    }
  ]
}